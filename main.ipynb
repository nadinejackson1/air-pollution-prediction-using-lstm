{
  "cells": [
    {
      "cell_type": "markdown",
      "metadata": {
        "id": "view-in-github",
        "colab_type": "text"
      },
      "source": [
        "<a href=\"https://colab.research.google.com/github/nadinejackson1/climate-change-food-security-lstm/blob/main/main.ipynb\" target=\"_parent\"><img src=\"https://colab.research.google.com/assets/colab-badge.svg\" alt=\"Open In Colab\"/></a>"
      ]
    },
    {
      "cell_type": "code",
      "execution_count": 1,
      "metadata": {
        "colab": {
          "base_uri": "https://localhost:8080/"
        },
        "id": "PltPf6atTRq2",
        "outputId": "34ba5018-e52b-4eb9-8f9b-4fbd474fa863"
      },
      "outputs": [
        {
          "output_type": "stream",
          "name": "stdout",
          "text": [
            "Drive already mounted at /content/drive; to attempt to forcibly remount, call drive.mount(\"/content/drive\", force_remount=True).\n"
          ]
        }
      ],
      "source": [
        "# Import libraries and  modules\n",
        "import numpy as np\n",
        "import matplotlib.pyplot as plt\n",
        "import os\n",
        "import cv2\n",
        "from sklearn.model_selection import train_test_split\n",
        "from sklearn.preprocessing import LabelEncoder\n",
        "from tensorflow.keras.utils import to_categorical\n",
        "from tensorflow.keras.models import Sequential\n",
        "from tensorflow.keras.layers import Conv2D, MaxPooling2D, Dense, Flatten, Dropout\n",
        "from tensorflow.keras.optimizers import Adam\n",
        "\n",
        "from google.colab import drive\n",
        "drive.mount('/content/drive')\n"
      ]
    },
    {
      "cell_type": "code",
      "source": [
        "# Set the folder path \n",
        "folder = \"/content/drive/MyDrive/caltech-101/101_ObjectCategories\""
      ],
      "metadata": {
        "id": "3Y9LIFpkkAPF"
      },
      "execution_count": 2,
      "outputs": []
    },
    {
      "cell_type": "code",
      "execution_count": 3,
      "metadata": {
        "id": "y81bqg0XTRq9"
      },
      "outputs": [],
      "source": [
        "# Define function to load images from folder\n",
        "\n",
        "def load_images_from_folder(folder, target_size=(128, 128)):\n",
        "    images = []\n",
        "    labels = []\n",
        "    for class_name in os.listdir(folder):\n",
        "        path = os.path.join(folder, class_name)\n",
        "        if os.path.isdir(path):\n",
        "            for filename in os.listdir(path):\n",
        "                img = cv2.imread(os.path.join(path, filename))\n",
        "                if img is not None:\n",
        "                    img = cv2.resize(img, target_size)\n",
        "                    images.append(img)\n",
        "                    labels.append(class_name)\n",
        "    return images, labels"
      ]
    },
    {
      "cell_type": "code",
      "source": [
        "# Load and preprocess the dataset\n",
        "\n",
        "images, labels = load_images_from_folder(folder)\n",
        "images = np.array(images) / 255.0\n",
        "\n",
        "if len(labels) == 0:\n",
        "    print(\"No data found. Please check the dataset path.\")\n",
        "else:\n",
        "    label_encoder = LabelEncoder()\n",
        "    integer_encoded = label_encoder.fit_transform(labels)\n",
        "    num_classes = np.max(integer_encoded) + 1 if integer_encoded.size > 0 else 0\n",
        "    labels = to_categorical(integer_encoded, num_classes=num_classes)"
      ],
      "metadata": {
        "id": "MQDg8AB_kRLO"
      },
      "execution_count": 4,
      "outputs": []
    },
    {
      "cell_type": "code",
      "execution_count": 5,
      "metadata": {
        "id": "pRE-tFPwTRq_"
      },
      "outputs": [],
      "source": [
        "# Split the dataset into training and testing sets\n",
        "X_train, X_test, y_train, y_test = train_test_split(images, labels, test_size=0.2, random_state=42)\n"
      ]
    },
    {
      "cell_type": "code",
      "execution_count": 6,
      "metadata": {
        "id": "N9ClbJZgTRrB"
      },
      "outputs": [],
      "source": [
        "# Define the CNN model\n",
        "def create_cnn(input_shape, num_classes):\n",
        "    model = Sequential()\n",
        "    model.add(Conv2D(32, (3, 3), activation='relu', input_shape=input_shape))\n",
        "    model.add(MaxPooling2D((2, 2)))\n",
        "    model.add(Conv2D(64, (3, 3), activation='relu'))\n",
        "    model.add(MaxPooling2D((2, 2)))\n",
        "    model.add(Conv2D(128, (3, 3), activation='relu'))\n",
        "    model.add(MaxPooling2D((2, 2)))\n",
        "    model.add(Flatten())\n",
        "    model.add(Dropout(0.5))\n",
        "    model.add(Dense(256, activation='relu'))\n",
        "    model.add(Dense(num_classes, activation='softmax'))\n",
        "    return model\n",
        "\n",
        "input_shape = X_train.shape[1:]\n",
        "num_classes = y_train.shape[1]\n",
        "model = create_cnn(input_shape, num_classes)\n"
      ]
    },
    {
      "cell_type": "code",
      "execution_count": 7,
      "metadata": {
        "id": "qnP2Ll-UTRrD"
      },
      "outputs": [],
      "source": [
        "# Compile the model\n",
        "optimizer = Adam(learning_rate=0.001)\n",
        "model.compile(optimizer=optimizer, loss='categorical_crossentropy', metrics=['accuracy'])\n"
      ]
    },
    {
      "cell_type": "code",
      "execution_count": null,
      "metadata": {
        "colab": {
          "base_uri": "https://localhost:8080/"
        },
        "id": "EK_gbiTqTRrF",
        "outputId": "45953fb5-dd08-44df-efd5-c32074e074af"
      },
      "outputs": [
        {
          "output_type": "stream",
          "name": "stdout",
          "text": [
            "Epoch 1/20\n",
            "187/187 [==============================] - 19s 43ms/step - loss: 3.2836 - accuracy: 0.3186 - val_loss: 2.6421 - val_accuracy: 0.4216\n",
            "Epoch 2/20\n",
            "187/187 [==============================] - 4s 22ms/step - loss: 2.0651 - accuracy: 0.5316 - val_loss: 2.0653 - val_accuracy: 0.5422\n",
            "Epoch 3/20\n",
            "187/187 [==============================] - 4s 23ms/step - loss: 1.2316 - accuracy: 0.6933 - val_loss: 2.0295 - val_accuracy: 0.5556\n",
            "Epoch 4/20\n",
            "187/187 [==============================] - 5s 24ms/step - loss: 0.6235 - accuracy: 0.8270 - val_loss: 2.1145 - val_accuracy: 0.5851\n",
            "Epoch 5/20\n",
            "187/187 [==============================] - 7s 40ms/step - loss: 0.3254 - accuracy: 0.9120 - val_loss: 2.4975 - val_accuracy: 0.5912\n",
            "Epoch 6/20\n",
            "187/187 [==============================] - 35s 182ms/step - loss: 0.2195 - accuracy: 0.9370 - val_loss: 2.8972 - val_accuracy: 0.5945\n",
            "Epoch 7/20\n",
            "187/187 [==============================] - 4s 24ms/step - loss: 0.1376 - accuracy: 0.9625 - val_loss: 2.8607 - val_accuracy: 0.5858\n",
            "Epoch 8/20\n",
            "187/187 [==============================] - 4s 21ms/step - loss: 0.1017 - accuracy: 0.9732 - val_loss: 3.0851 - val_accuracy: 0.5791\n",
            "Epoch 9/20\n",
            "187/187 [==============================] - 4s 23ms/step - loss: 0.0987 - accuracy: 0.9747 - val_loss: 3.0527 - val_accuracy: 0.5999\n",
            "Epoch 10/20\n",
            "187/187 [==============================] - 5s 27ms/step - loss: 0.0966 - accuracy: 0.9723 - val_loss: 3.3322 - val_accuracy: 0.5985\n",
            "Epoch 11/20\n",
            " 39/187 [=====>........................] - ETA: 1:16 - loss: 0.0633 - accuracy: 0.9808"
          ]
        }
      ],
      "source": [
        "# Train the model\n",
        "history = model.fit(X_train, y_train, batch_size=32, epochs=20, validation_split=0.2)"
      ]
    },
    {
      "cell_type": "code",
      "execution_count": null,
      "metadata": {
        "id": "pssKPN84TRrI"
      },
      "outputs": [],
      "source": [
        "# Evaluate the model on the test set:\n",
        "test_loss, test_accuracy = model.evaluate(X_test, y_test)\n",
        "print(f\"Test loss: {test_loss}, Test accuracy: {test_accuracy}\")\n"
      ]
    }
  ],
  "metadata": {
    "kernelspec": {
      "display_name": "Python 3",
      "language": "python",
      "name": "python3"
    },
    "language_info": {
      "codemirror_mode": {
        "name": "ipython",
        "version": 3
      },
      "file_extension": ".py",
      "mimetype": "text/x-python",
      "name": "python",
      "nbconvert_exporter": "python",
      "pygments_lexer": "ipython3",
      "version": "3.11.3"
    },
    "orig_nbformat": 4,
    "colab": {
      "provenance": [],
      "include_colab_link": true
    },
    "accelerator": "GPU",
    "gpuClass": "standard"
  },
  "nbformat": 4,
  "nbformat_minor": 0
}